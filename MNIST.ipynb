{
  "nbformat": 4,
  "nbformat_minor": 0,
  "metadata": {
    "colab": {
      "name": "MNIST.ipynb",
      "provenance": [],
      "authorship_tag": "ABX9TyOBpeHCJZZWwxorz7jFakKF",
      "include_colab_link": true
    },
    "kernelspec": {
      "name": "python3",
      "display_name": "Python 3"
    },
    "language_info": {
      "name": "python"
    }
  },
  "cells": [
    {
      "cell_type": "markdown",
      "metadata": {
        "id": "view-in-github",
        "colab_type": "text"
      },
      "source": [
        "<a href=\"https://colab.research.google.com/github/Lisony/sigma.ai_kaggle/blob/jedrzej/MNIST.ipynb\" target=\"_parent\"><img src=\"https://colab.research.google.com/assets/colab-badge.svg\" alt=\"Open In Colab\"/></a>"
      ]
    },
    {
      "cell_type": "code",
      "source": [
        "import pandas as pd\n",
        "import numpy as np"
      ],
      "metadata": {
        "id": "Oo-luMET3S39"
      },
      "execution_count": 66,
      "outputs": []
    },
    {
      "cell_type": "code",
      "source": [
        "train = pd.read_csv('/content/kaggledigit_recognizer/train.csv')\n",
        "test = pd.read_csv('/content/kaggledigit_recognizer/test.csv')\n",
        "sample_submission = pd.read_csv('/content/kaggledigit_recognizer/sample_submission.csv')"
      ],
      "metadata": {
        "id": "iGqylcmx7jB3"
      },
      "execution_count": 67,
      "outputs": []
    },
    {
      "cell_type": "code",
      "source": [
        "from sklearn.model_selection import train_test_split\n",
        "from sklearn.preprocessing import normalize\n",
        "\n",
        "X = train.copy()\n",
        "y = X.pop('label')\n",
        "X_test = test.copy()\n",
        "\n",
        "# train_X = np.array(X)/255\n",
        "# test_X = np.array(test_X)/255\n",
        "\n",
        "# split training data, stratify - make sure all cases are evenly distributed\n",
        "X_train, X_valid, y_train, y_valid = train_test_split(X, y, stratify=y, train_size=0.8)\n",
        "\n",
        "# normalize pixels\n",
        "X_train = normalize(X_train, norm = 'max')\n",
        "X_valid = normalize(X_valid, norm = 'max')\n",
        "X_test = normalize(X_test, norm = 'max')\n",
        "\n",
        "print(\"X_train shape: \", X_train.shape)\n",
        "print(\"X_valid shape: \", X_valid.shape)\n",
        "print(\"X_test shape: \", X_test.shape)\n",
        "\n",
        "#set input_shape parameter\n",
        "input_shape = [X_train.shape[1]]"
      ],
      "metadata": {
        "id": "IzgnBQFP8EV6",
        "colab": {
          "base_uri": "https://localhost:8080/"
        },
        "outputId": "03c7554f-6c0f-4d5c-b1b1-3807b87cf58b"
      },
      "execution_count": 68,
      "outputs": [
        {
          "output_type": "stream",
          "name": "stdout",
          "text": [
            "X_train shape:  (33600, 784)\n",
            "X_valid shape:  (8400, 784)\n",
            "X_test shape:  (28000, 784)\n"
          ]
        }
      ]
    },
    {
      "cell_type": "code",
      "source": [
        "from tensorflow import keras\n",
        "from tensorflow.keras import layers\n",
        "\n",
        "model = keras.Sequential([\n",
        "  layers.BatchNormalization(input_shape = input_shape),\n",
        "  layers.Dense(input_shape[0]/2 , activation = 'relu'),\n",
        "  layers.BatchNormalization(),\n",
        "  layers.Dropout(0.3),\n",
        "  layers.Dense(256, activation = 'relu'),\n",
        "  layers.BatchNormalization(),\n",
        "  layers.Dropout(0.3),\n",
        "  layers.Dense(64, activation = 'relu'),\n",
        "  layers.BatchNormalization(),\n",
        "  layers.Dropout(0.3),\n",
        "  layers.Dense(64, activation = 'relu'),\n",
        "  layers.BatchNormalization(),\n",
        "  layers.Dropout(0.3),\n",
        "  layers.Dense(10, activation= 'softmax')\n",
        "])"
      ],
      "metadata": {
        "id": "fi12sCZR8e4z"
      },
      "execution_count": 69,
      "outputs": []
    },
    {
      "cell_type": "code",
      "source": [
        "model.compile(\n",
        "    optimizer = 'adam',\n",
        "    loss = 'sparse_categorical_crossentropy',\n",
        "    metrics = ['accuracy']\n",
        ")"
      ],
      "metadata": {
        "id": "Jr0uK9E0MnV3"
      },
      "execution_count": 70,
      "outputs": []
    },
    {
      "cell_type": "code",
      "source": [
        "early_stopping = keras.callbacks.EarlyStopping(\n",
        "    patience=10,\n",
        "    min_delta=0.001,\n",
        "    restore_best_weights=True,\n",
        ")\n",
        "history = model.fit(\n",
        "    X_train, y_train,\n",
        "    validation_data=(X_valid, y_valid),\n",
        "    batch_size=512,\n",
        "    epochs=50,\n",
        "    callbacks=[early_stopping],\n",
        ")\n",
        "\n",
        "history_df = pd.DataFrame(history.history)\n",
        "history_df.loc[:, ['loss', 'val_loss']].plot(title=\"Cross-entropy\")\n",
        "history_df.loc[:, ['accuracy', 'val_accuracy']].plot(title=\"Accuracy\")"
      ],
      "metadata": {
        "colab": {
          "base_uri": "https://localhost:8080/",
          "height": 1000
        },
        "id": "wrzxU36xNiB9",
        "outputId": "ad8b428f-4581-457c-af18-61556b3bff3d"
      },
      "execution_count": 71,
      "outputs": [
        {
          "output_type": "stream",
          "name": "stdout",
          "text": [
            "Epoch 1/50\n",
            "66/66 [==============================] - 5s 59ms/step - loss: 0.9974 - accuracy: 0.6963 - val_loss: 0.6628 - val_accuracy: 0.8667\n",
            "Epoch 2/50\n",
            "66/66 [==============================] - 3s 49ms/step - loss: 0.3636 - accuracy: 0.8960 - val_loss: 0.3094 - val_accuracy: 0.9061\n",
            "Epoch 3/50\n",
            "66/66 [==============================] - 3s 49ms/step - loss: 0.2622 - accuracy: 0.9260 - val_loss: 0.2215 - val_accuracy: 0.9292\n",
            "Epoch 4/50\n",
            "66/66 [==============================] - 3s 49ms/step - loss: 0.2099 - accuracy: 0.9399 - val_loss: 0.1810 - val_accuracy: 0.9443\n",
            "Epoch 5/50\n",
            "66/66 [==============================] - 3s 49ms/step - loss: 0.1706 - accuracy: 0.9515 - val_loss: 0.1428 - val_accuracy: 0.9571\n",
            "Epoch 6/50\n",
            "66/66 [==============================] - 3s 49ms/step - loss: 0.1387 - accuracy: 0.9615 - val_loss: 0.1336 - val_accuracy: 0.9612\n",
            "Epoch 7/50\n",
            "66/66 [==============================] - 3s 49ms/step - loss: 0.1242 - accuracy: 0.9647 - val_loss: 0.1149 - val_accuracy: 0.9677\n",
            "Epoch 8/50\n",
            "66/66 [==============================] - 3s 48ms/step - loss: 0.1047 - accuracy: 0.9688 - val_loss: 0.1094 - val_accuracy: 0.9699\n",
            "Epoch 9/50\n",
            "66/66 [==============================] - 3s 49ms/step - loss: 0.0933 - accuracy: 0.9730 - val_loss: 0.1068 - val_accuracy: 0.9707\n",
            "Epoch 10/50\n",
            "66/66 [==============================] - 3s 50ms/step - loss: 0.0827 - accuracy: 0.9754 - val_loss: 0.1026 - val_accuracy: 0.9715\n",
            "Epoch 11/50\n",
            "66/66 [==============================] - 4s 54ms/step - loss: 0.0672 - accuracy: 0.9800 - val_loss: 0.1009 - val_accuracy: 0.9714\n",
            "Epoch 12/50\n",
            "66/66 [==============================] - 3s 52ms/step - loss: 0.0615 - accuracy: 0.9811 - val_loss: 0.1007 - val_accuracy: 0.9721\n",
            "Epoch 13/50\n",
            "66/66 [==============================] - 3s 50ms/step - loss: 0.0612 - accuracy: 0.9812 - val_loss: 0.0978 - val_accuracy: 0.9744\n",
            "Epoch 14/50\n",
            "66/66 [==============================] - 3s 49ms/step - loss: 0.0539 - accuracy: 0.9838 - val_loss: 0.0947 - val_accuracy: 0.9746\n",
            "Epoch 15/50\n",
            "66/66 [==============================] - 4s 55ms/step - loss: 0.0521 - accuracy: 0.9846 - val_loss: 0.1015 - val_accuracy: 0.9737\n",
            "Epoch 16/50\n",
            "66/66 [==============================] - 3s 51ms/step - loss: 0.0468 - accuracy: 0.9859 - val_loss: 0.0972 - val_accuracy: 0.9745\n",
            "Epoch 17/50\n",
            "66/66 [==============================] - 3s 51ms/step - loss: 0.0431 - accuracy: 0.9865 - val_loss: 0.0943 - val_accuracy: 0.9757\n",
            "Epoch 18/50\n",
            "66/66 [==============================] - 3s 49ms/step - loss: 0.0409 - accuracy: 0.9881 - val_loss: 0.0991 - val_accuracy: 0.9752\n",
            "Epoch 19/50\n",
            "66/66 [==============================] - 3s 49ms/step - loss: 0.0355 - accuracy: 0.9895 - val_loss: 0.0974 - val_accuracy: 0.9749\n",
            "Epoch 20/50\n",
            "66/66 [==============================] - 3s 49ms/step - loss: 0.0357 - accuracy: 0.9889 - val_loss: 0.0993 - val_accuracy: 0.9768\n",
            "Epoch 21/50\n",
            "66/66 [==============================] - 3s 49ms/step - loss: 0.0339 - accuracy: 0.9895 - val_loss: 0.1030 - val_accuracy: 0.9760\n",
            "Epoch 22/50\n",
            "66/66 [==============================] - 3s 51ms/step - loss: 0.0292 - accuracy: 0.9909 - val_loss: 0.1004 - val_accuracy: 0.9758\n",
            "Epoch 23/50\n",
            "66/66 [==============================] - 3s 50ms/step - loss: 0.0283 - accuracy: 0.9915 - val_loss: 0.0984 - val_accuracy: 0.9773\n",
            "Epoch 24/50\n",
            "66/66 [==============================] - 3s 49ms/step - loss: 0.0246 - accuracy: 0.9923 - val_loss: 0.1012 - val_accuracy: 0.9769\n"
          ]
        },
        {
          "output_type": "execute_result",
          "data": {
            "text/plain": [
              "<matplotlib.axes._subplots.AxesSubplot at 0x7f267f582d50>"
            ]
          },
          "metadata": {},
          "execution_count": 71
        },
        {
          "output_type": "display_data",
          "data": {
            "text/plain": [
              "<Figure size 432x288 with 1 Axes>"
            ],
            "image/png": "[encoded data removed]"
          },
          "metadata": {
            "needs_background": "light"
          }
        },
        {
          "output_type": "display_data",
          "data": {
            "text/plain": [
              "<Figure size 432x288 with 1 Axes>"
            ],
            "image/png": "[encoded data removed]"
          },
          "metadata": {
            "needs_background": "light"
          }
        }
      ]
    },
    {
      "cell_type": "code",
      "source": [
        ""
      ],
      "metadata": {
        "id": "GmV6AklQN7YP"
      },
      "execution_count": null,
      "outputs": []
    }
  ]
}